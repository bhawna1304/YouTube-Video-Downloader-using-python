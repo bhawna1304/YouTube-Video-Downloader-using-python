{
 "cells": [
  {
   "cell_type": "code",
   "execution_count": 1,
   "metadata": {},
   "outputs": [],
   "source": [
    "#Start the project by importing the required modules.\n",
    "from tkinter import *\n",
    "from pytube import YouTube\n",
    "\n",
    "\n",
    "root = Tk()     #Tk() used to initialize tkinter to create display window\n",
    "root.geometry('500x300')  #geometry() used to set the window’s width and height\n",
    "root.resizable(0,0)      #resizable(0,0) set the fix size of window\n",
    "root.title(\"YouTube video downloader\")   #title() used to give the title of window\n",
    "\n",
    "\n",
    "Label(root,text = 'Youtube Video Downloader', font ='arial 20 bold').pack()\n",
    "\n",
    "\n",
    "\n",
    "#Create Field to Enter Link\n",
    "\n",
    "\n",
    "link = StringVar()\n",
    "Label(root, text = 'copy Link Here:', font = 'arial 15 bold').place(x= 160 , y = 60)\n",
    "link_enter = Entry(root, width = 70,textvariable = link).place(x = 32, y = 90)\n",
    "\n",
    "#Create Function to Start Downloading\n",
    "\n",
    "\n",
    "def Downloader():     \n",
    "    url =YouTube(str(link.get())) #Url variable gets the youtube link from the link variable by get()& str() will convert the link in string datatype.\n",
    "    video = url.streams.first() #The video is download in the first present stream of that video by stream.first() method.\n",
    "    video.download()\n",
    "    \n",
    "Button(root,text = 'DOWNLOAD', font = 'arial 15 bold' ,bg = 'red', \n",
    "       padx = 2, command = Downloader).place(x=180 ,y = 150)\n",
    "root.mainloop()  #root.mainloop() is a method that executes when we want to run the program.\n",
    "\n",
    "\n",
    "\n",
    "\n"
   ]
  },
  {
   "cell_type": "code",
   "execution_count": null,
   "metadata": {},
   "outputs": [],
   "source": []
  }
 ],
 "metadata": {
  "kernelspec": {
   "display_name": "Python 3",
   "language": "python",
   "name": "python3"
  },
  "language_info": {
   "codemirror_mode": {
    "name": "ipython",
    "version": 3
   },
   "file_extension": ".py",
   "mimetype": "text/x-python",
   "name": "python",
   "nbconvert_exporter": "python",
   "pygments_lexer": "ipython3",
   "version": "3.8.3"
  }
 },
 "nbformat": 4,
 "nbformat_minor": 4
}
